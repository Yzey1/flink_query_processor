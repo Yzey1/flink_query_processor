{
 "cells": [
  {
   "cell_type": "code",
   "execution_count": 49,
   "metadata": {},
   "outputs": [
    {
     "name": "stdout",
     "output_type": "stream",
     "text": [
      "consistent ratio:  1.0\n",
      "inconsistent ratio:  0.0\n"
     ]
    }
   ],
   "source": [
    "import pandas as pd\n",
    "\n",
    "sf = \"0.01\"\n",
    "input_type = \"update_1.0\"\n",
    "\n",
    "# read the mysql query result\n",
    "mysql_csv_path = f\"mysql_test/ops_sf{sf}_{input_type}_mysql.csv\"\n",
    "mysql_df = pd.read_csv(mysql_csv_path)\n",
    "\n",
    "# read the flink query result (in csv format)\n",
    "flink_csv_path = f\"output/ops_sf{sf}_{input_type}_output.csv\"\n",
    "flink_df = pd.read_csv(flink_csv_path, header=None, names=[\"c_custkey\", \"c_name\", \"c_acctbal\", \"c_address\", \"n_name\", \"c_phone\", \"c_comment\", \"deltaRevenue\", \"revenue\"], delimiter=\"|\")\n",
    "\n",
    "# join the two dataframes\n",
    "join_df = pd.merge(mysql_df, flink_df, on=\"c_custkey\", how=\"outer\", suffixes=(\"_mysql\", \"_flink\"))\n",
    "\n",
    "# find the consistent records\n",
    "join_df[\"diff\"] = join_df[\"revenue_mysql\"] - join_df[\"revenue_flink\"]\n",
    "consistent = join_df[join_df[\"diff\"] < 10e-6]\n",
    "consistent_custkey = consistent[\"c_custkey\"].unique()\n",
    "\n",
    "all_custkey = mysql_df[\"c_custkey\"].unique()\n",
    "inconsistent_custkey = [int(custkey) for custkey in all_custkey if custkey not in consistent_custkey]\n",
    "\n",
    "# calculate ratio of consistent and inconsistent\n",
    "total_custkey = len(all_custkey)\n",
    "consistent_ratio = len(consistent_custkey) / total_custkey\n",
    "inconsistent_ratio = len(inconsistent_custkey) / total_custkey\n",
    "\n",
    "print(\"consistent ratio: \", consistent_ratio)\n",
    "print(\"inconsistent ratio: \", inconsistent_ratio)\n"
   ]
  },
  {
   "cell_type": "code",
   "execution_count": null,
   "metadata": {},
   "outputs": [],
   "source": []
  }
 ],
 "metadata": {
  "kernelspec": {
   "display_name": "base",
   "language": "python",
   "name": "python3"
  },
  "language_info": {
   "codemirror_mode": {
    "name": "ipython",
    "version": 3
   },
   "file_extension": ".py",
   "mimetype": "text/x-python",
   "name": "python",
   "nbconvert_exporter": "python",
   "pygments_lexer": "ipython3",
   "version": "3.12.2"
  }
 },
 "nbformat": 4,
 "nbformat_minor": 2
}
