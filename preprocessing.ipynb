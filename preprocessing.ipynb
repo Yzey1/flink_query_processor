{
 "cells": [
  {
   "cell_type": "code",
   "execution_count": 23,
   "metadata": {},
   "outputs": [
    {
     "name": "stdout",
     "output_type": "stream",
     "text": [
      "['1', '0', '1', '0', '0', '1', '0', '1', '0', '1']\n"
     ]
    }
   ],
   "source": [
    "import random\n",
    "\n",
    "def generate_binary_numbers(k, ones_count=10):\n",
    "    \n",
    "    binary_numbers = ['1'] * ones_count + ['0'] * (k-ones_count)  # generate a list of binary numbers\n",
    "    random.shuffle(binary_numbers)  # shuffle the list\n",
    "\n",
    "    return binary_numbers\n",
    "\n",
    "k = 10  # number of binary numbers to generate\n",
    "binary_numbers = generate_binary_numbers(k, zeros_count=5)\n",
    "print(binary_numbers)"
   ]
  },
  {
   "cell_type": "code",
   "execution_count": null,
   "metadata": {},
   "outputs": [],
   "source": [
    "import csv\n",
    "import re\n",
    "import os\n",
    "import random\n",
    "\n",
    "folder = \"src/main/resources/data\"\n",
    "\n",
    "# list all the files in the folder\n",
    "files = os.listdir(folder)\n",
    "n_utuples = 10  # number of update tuples to generate for each file\n",
    "\n",
    "# for each file, if it is a .tbl file, read it and output a .csv file\n",
    "for file in files:\n",
    "    if re.search(r'\\.tbl$', file):\n",
    "        input_file = file\n",
    "        output_file = re.sub(r'\\.tbl$', '.csv', input_file)\n",
    "        \n",
    "        with open(folder + \"/\" + input_file, 'r') as tbl_file:\n",
    "            # count the number of rows in the file\n",
    "            n_rows = sum(1 for line in tbl_file)\n",
    "            \n",
    "            # generate a list of random tags\n",
    "            tags = generate_binary_numbers(n_rows, n_)\n",
    "\n",
    "            with open(folder + \"/\" + output_file, 'w', newline='') as csv_file:\n",
    "                tbl_reader = csv.reader(tbl_file, delimiter='|')\n",
    "                csv_writer = csv.writer(csv_file)\n",
    "                \n",
    "                for row in tbl_reader:\n",
    "                    # add a file at the end of the row (as the tag identifying if using it as an update tuple)\n",
    "                    if random.random() < update_tuple_percentage:\n",
    "                        row.append('update')\n",
    "                    \n",
    "                    csv_writer.writerow(row)\n",
    "\n"
   ]
  }
 ],
 "metadata": {
  "kernelspec": {
   "display_name": "base",
   "language": "python",
   "name": "python3"
  },
  "language_info": {
   "codemirror_mode": {
    "name": "ipython",
    "version": 3
   },
   "file_extension": ".py",
   "mimetype": "text/x-python",
   "name": "python",
   "nbconvert_exporter": "python",
   "pygments_lexer": "ipython3",
   "version": "3.12.4"
  }
 },
 "nbformat": 4,
 "nbformat_minor": 2
}
