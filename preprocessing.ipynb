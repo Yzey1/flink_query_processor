{
 "cells": [
  {
   "cell_type": "markdown",
   "metadata": {},
   "source": [
    "# Generate Input Data"
   ]
  },
  {
   "cell_type": "markdown",
   "metadata": {},
   "source": [
    "1. Add operation and database identifier"
   ]
  },
  {
   "cell_type": "code",
   "execution_count": 1,
   "metadata": {},
   "outputs": [
    {
     "name": "stdout",
     "output_type": "stream",
     "text": [
      "Processing nation.tbl\n",
      "Processing customer.tbl\n",
      "Processing orders.tbl\n",
      "Processing lineitem.tbl\n",
      "Done!\n"
     ]
    }
   ],
   "source": [
    "import csv\n",
    "import random\n",
    "\n",
    "folder = \"src/main/resources/data\"\n",
    "\n",
    "# file needs update operations (in dependent order)\n",
    "files = ['nation.tbl', 'customer.tbl', 'orders.tbl', 'lineitem.tbl']\n",
    "\n",
    "# number of updates\n",
    "n_updates = 0.1\n",
    "\n",
    "# read the file into a list\n",
    "def read_file(file):\n",
    "    with open(folder + \"/\" + file, 'r') as tbl_file:\n",
    "        tbl_reader = csv.reader(tbl_file, delimiter='|')\n",
    "        return list(tbl_reader)\n",
    "\n",
    "# select a subset of the data for updates\n",
    "def select_updates(data, n_updates):\n",
    "    if n_updates < 1:\n",
    "        n_updates = int(n_updates * len(data))\n",
    "    else:\n",
    "        n_updates = int(n_updates)\n",
    "    updates = random.sample(data, n_updates)\n",
    "    return updates\n",
    "\n",
    "init_ops = []\n",
    "update_ops = []\n",
    "\n",
    "for file in files:\n",
    "    print(\"Processing \" + file)\n",
    "    data = read_file(file)\n",
    "\n",
    "    # select a subset of the data for updates\n",
    "    updates = select_updates(data, n_updates)\n",
    "    n_invalid_ops = max(1, int(len(updates)*0.5))\n",
    "    \n",
    "    # insert: +, delete: -\n",
    "    insert_tag = f\"+|{file.split('.')[0]}|\"\n",
    "    delete_tag = f\"-|{file.split('.')[0]}|\"\n",
    "    # initialize the database (insert all tuples)\n",
    "    init_ops += [insert_tag+'|'.join(i) for i in data]\n",
    "\n",
    "    if file != \"nation.tbl\":\n",
    "        # update operations\n",
    "        update_ops += [insert_tag+'|'.join(u) for u in updates[:n_invalid_ops]] # invalid insertions\n",
    "        update_ops += [delete_tag+'|'.join(u) for u in updates] # valid deletions\n",
    "        update_ops += [delete_tag+'|'.join(u) for u in updates[:n_invalid_ops]] # invalid deletions\n",
    "\n",
    "# write the operations to a file\n",
    "with open(folder + \"/ops_init.txt\" , 'w') as op_file:\n",
    "    for op in init_ops:\n",
    "        op_file.write(op + '\\n')\n",
    "    \n",
    "with open(folder + \"/ops_update.txt\" , 'w') as op_file:\n",
    "    for op in update_ops:\n",
    "        op_file.write(op + '\\n')\n",
    "\n",
    "with open(folder + \"/ops_all.txt\" , 'w') as op_file:\n",
    "    for op in init_ops + update_ops:\n",
    "        op_file.write(op + '\\n')\n",
    "\n",
    "print(\"Done!\")"
   ]
  },
  {
   "cell_type": "markdown",
   "metadata": {},
   "source": [
    "2. Split Dataset"
   ]
  },
  {
   "cell_type": "code",
   "execution_count": 2,
   "metadata": {},
   "outputs": [],
   "source": [
    "folder = \"src/main/resources/data\"\n",
    "file_to_split = \"ops_init.txt\"\n",
    "split_ratio = [0.2, 0.4, 0.6, 0.8, 1.0]\n",
    "\n",
    "def split_data(data, ratio):\n",
    "    # randomly select a subset of the data\n",
    "    n = int(len(data) * ratio)\n",
    "    return random.sample(data, n)\n",
    "\n",
    "with open(folder + f\"/{file_to_split}\", 'r') as op_file:\n",
    "    data = op_file.readlines()\n",
    "    subsets = [split_data(data, r) for r in split_ratio]\n",
    "    for i, subset in enumerate(subsets):\n",
    "        with open(folder + f\"/{file_to_split.split('.txt')[0]}_{(i+1)*20}.txt\", 'w') as op_file:\n",
    "            for op in subset:\n",
    "                op_file.write(op)\n"
   ]
  },
  {
   "cell_type": "markdown",
   "metadata": {},
   "source": [
    "# Convert the operation to SQL insert/delete statements"
   ]
  },
  {
   "cell_type": "code",
   "execution_count": 3,
   "metadata": {},
   "outputs": [],
   "source": [
    "fieldnames = {\n",
    "    \"nation\": [\"N_NATIONKEY\", \"N_NAME\", \"N_REGIONKEY\", \"N_COMMENT\"],\n",
    "    \"customer\": [\"C_CUSTKEY\", \"C_NAME\", \"C_ADDRESS\", \"C_NATIONKEY\", \"C_PHONE\", \"C_ACCTBAL\", \"C_MKTSEGMENT\", \"C_COMMENT\"],\n",
    "    \"orders\": [\"O_ORDERKEY\", \"O_CUSTKEY\", \"O_ORDERSTATUS\", \"O_TOTALPRICE\", \"O_ORDERDATE\", \"O_ORDERPRIORITY\", \"O_CLERK\", \"O_SHIPPRIORITY\", \"O_COMMENT\"],\n",
    "    \"lineitem\": [\"L_ORDERKEY\", \"L_PARTKEY\", \"L_SUPPKEY\", \"L_LINENUMBER\", \"L_QUANTITY\", \"L_EXTENDEDPRICE\", \"L_DISCOUNT\", \"L_TAX\", \"L_RETURNFLAG\", \"L_LINESTATUS\", \"L_SHIPDATE\", \"L_COMMITDATE\", \"L_RECEIPTDATE\", \"L_SHIPINSTRUCT\", \"L_SHIPMODE\", \"L_COMMENT\"]\n",
    "}\n",
    "\n",
    "# \n",
    "def convert_to_sql(op_file):\n",
    "    with open(op_file, 'r') as file:\n",
    "        ops = file.readlines()\n",
    "    insert_tag = \"+\"\n",
    "    delete_tag = \"-\"\n",
    "    sql_statements = []\n",
    "    for op in ops:\n",
    "        if op.startswith(insert_tag):\n",
    "            table_name = op.split('|')[1]\n",
    "            values = op.split('|')[2:]\n",
    "            if \"\\n\" in values:\n",
    "                values.remove('\\n')\n",
    "            values = [f\"'{v}'\" if not v.isdigit() else v for v in values]\n",
    "            values = [f\"'{v}'\" if v == \"null\" else v for v in values]\n",
    "            sql_statement = f\"INSERT INTO {table_name} VALUES ({', '.join(values)});\"\n",
    "            sql_statements.append(sql_statement)\n",
    "        elif op.startswith(delete_tag):\n",
    "            table_name = op.split('|')[1]\n",
    "            condition = op.split('|')[2:]\n",
    "            condition.remove('\\n')\n",
    "            condition = [f\"{fieldnames[table_name][i]} = '{c}'\" if not c.isdigit() else f\"{fieldnames[table_name][i]} = {c}\" for i, c in enumerate(condition)]\n",
    "            sql_statement = f\"DELETE FROM {table_name} WHERE {', '.join(condition)};\"\n",
    "            sql_statements.append(sql_statement)\n",
    "    \n",
    "    return sql_statements\n",
    "\n",
    "# convert the ops_all.txt file to sql statements\n",
    "folder = \"src/main/resources/data\"\n",
    "fname = \"ops_all.txt\"\n",
    "sql_statements = convert_to_sql(folder + \"/\" + fname, 'r')\n",
    "\n",
    "# save the sql statements to a file\n",
    "with open(folder + \"/\" + fname.replace(\"txt\", \"sql\") , 'w') as sql_file:\n",
    "    for statement in sql_statements:\n",
    "        sql_file.write(statement + '\\n')"
   ]
  },
  {
   "cell_type": "code",
   "execution_count": null,
   "metadata": {},
   "outputs": [],
   "source": []
  },
  {
   "cell_type": "code",
   "execution_count": null,
   "metadata": {},
   "outputs": [],
   "source": []
  }
 ],
 "metadata": {
  "kernelspec": {
   "display_name": "base",
   "language": "python",
   "name": "python3"
  },
  "language_info": {
   "codemirror_mode": {
    "name": "ipython",
    "version": 3
   },
   "file_extension": ".py",
   "mimetype": "text/x-python",
   "name": "python",
   "nbconvert_exporter": "python",
   "pygments_lexer": "ipython3",
   "version": "3.12.2"
  }
 },
 "nbformat": 4,
 "nbformat_minor": 2
}
